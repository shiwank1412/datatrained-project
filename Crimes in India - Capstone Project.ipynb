{
 "cells": [
  {
   "cell_type": "code",
   "execution_count": null,
   "id": "98c73c12",
   "metadata": {},
   "outputs": [],
   "source": [
    "import pandas as pd\n",
    "import numpy as np\n",
    "import geopandas as gpd\n",
    "import matplotlib.pyplot as plt\n",
    "%matplotlib inline\n",
    "import warnings\n",
    "warnings.filterwarnings('ignore')\n",
    "from plotly.offline import download_plotlyjs, init_notebook_mode, plot, iplot\n",
    "import plotly.express as px\n",
    "import plotly.graph_objects as go\n",
    "import plotly.figure_factory as ff\n",
    "from plotly.colors import n_colors\n",
    "from plotly.subplots import make_subplots\n",
    "init_notebook_mode(connected=True)\n",
    "import cufflinks as cf\n",
    "cf.go_offline()"
   ]
  },
  {
   "cell_type": "code",
   "execution_count": null,
   "id": "609da6f7",
   "metadata": {},
   "outputs": [],
   "source": [
    "victims = pd.read_csv('../input/crime-in-india/20_Victims_of_rape.csv')\n",
    "police_hr = pd.read_csv('../input/crime-in-india/35_Human_rights_violation_by_police.csv')\n",
    "auto_theft = pd.read_csv('../input/crime-in-india/30_Auto_theft.csv')\n",
    "prop_theft = pd.read_csv('../input/crime-in-india/10_Property_stolen_and_recovered.csv')"
   ]
  },
  {
   "cell_type": "markdown",
   "id": "f375588a",
   "metadata": {},
   "source": [
    "Incest rape cases reported from 2001 to 2010 "
   ]
  },
  {
   "cell_type": "code",
   "execution_count": null,
   "id": "d293a559",
   "metadata": {},
   "outputs": [],
   "source": [
    "inc_victims = victims[victims['Subgroup']=='Victims of Incest Rape']\n",
    "​\n",
    "g = pd.DataFrame(inc_victims.groupby(['Year'])['Rape_Cases_Reported'].sum().reset_index())\n",
    "g.columns = ['Year','Cases Reported']\n",
    "​\n",
    "fig = px.bar(g,x='Year',y='Cases Reported',color_discrete_sequence=['blue'])\n",
    "fig.show()"
   ]
  },
  {
   "cell_type": "markdown",
   "id": "88da3789",
   "metadata": {},
   "source": [
    "In 2005, around 750 cases were reported which is the highest number of that decade.\n",
    "The year 2010 recorded the lowest number of cases i.e 288."
   ]
  },
  {
   "cell_type": "markdown",
   "id": "1b0e76d0",
   "metadata": {},
   "source": [
    "State/UT wise incest rape cases reported from 2001 to 2010 "
   ]
  },
  {
   "cell_type": "code",
   "execution_count": null,
   "id": "377aee55",
   "metadata": {},
   "outputs": [],
   "source": [
    "g1 = pd.DataFrame(inc_victims.groupby(['Area_Name'])['Rape_Cases_Reported'].sum().reset_index())\n",
    "g1.columns = ['State/UT','Cases Reported']\n",
    "g1.replace(to_replace='Arunachal Pradesh',value='Arunanchal Pradesh',inplace=True)\n",
    "​\n",
    "shp_gdf = gpd.read_file('../input/india-gis-data/India States/Indian_states.shp')\n",
    "merged = shp_gdf.set_index('st_nm').join(g1.set_index('State/UT'))\n",
    "​\n",
    "fig, ax = plt.subplots(1, figsize=(10, 10))\n",
    "ax.axis('off')\n",
    "ax.set_title('State-wise Rape-Cases Reported (2001-2010)',\n",
    "             fontdict={'fontsize': '15', 'fontweight' : '3'})\n",
    "fig = merged.plot(column='Cases Reported', cmap='Reds', linewidth=0.5, ax=ax, edgecolor='0.2',legend=True)"
   ]
  },
  {
   "cell_type": "markdown",
   "id": "5532de77",
   "metadata": {},
   "source": [
    "Top 3 states having highest number of cases - Madhya Pradhesh, Chhatisgarh, Rajasthan\n",
    "Top 3 states having lowest number of cases - Tripura, Manipur, Goa"
   ]
  },
  {
   "cell_type": "code",
   "execution_count": null,
   "id": "7fbcb1ca",
   "metadata": {},
   "outputs": [],
   "source": [
    "above_50 = inc_victims['Victims_Above_50_Yrs'].sum()\n",
    "ten_to_14 = inc_victims['Victims_Between_10-14_Yrs'].sum()\n",
    "fourteen_to_18 = inc_victims['Victims_Between_14-18_Yrs'].sum()\n",
    "eighteen_to_30 = inc_victims['Victims_Between_18-30_Yrs'].sum()\n",
    "thirty_to_50 = inc_victims['Victims_Between_30-50_Yrs'].sum()\n",
    "upto_10 = inc_victims['Victims_Upto_10_Yrs'].sum()\n",
    "\n",
    "age_grp = ['Upto 10','10 to 14','14 to 18','18 to 30','30 to 50','Above 50']\n",
    "age_group_vals = [upto_10,ten_to_14,fourteen_to_18,eighteen_to_30,thirty_to_50,above_50]\n",
    "\n",
    "fig = go.Figure(data=[go.Pie(labels=age_grp, values=age_group_vals,sort=False,\n",
    "                            marker=dict(colors=px.colors.qualitative.G10),textfont_size=12)])\n",
    "\n",
    "fig.show()"
   ]
  },
  {
   "cell_type": "raw",
   "id": "5e1111c6",
   "metadata": {},
   "source": [
    "Women between the age group of 18-30 have been most affected\n",
    "Women between the age group above 50 have been least affected"
   ]
  },
  {
   "cell_type": "markdown",
   "id": "277984bf",
   "metadata": {},
   "source": [
    "# Human Rights violation by the Police "
   ]
  },
  {
   "cell_type": "markdown",
   "id": "203f3a92",
   "metadata": {},
   "source": [
    "Human Rights in India is an issue complicated by the country's large size and population, widespread poverty, lack of proper education, as well as its diverse culture, despite its status as the world's largest sovereign, secular, democratic republic."
   ]
  },
  {
   "cell_type": "markdown",
   "id": "86cda12d",
   "metadata": {},
   "source": [
    "State/UT wise cases registered under Human Rights violation from 2001 to 2010"
   ]
  },
  {
   "cell_type": "code",
   "execution_count": null,
   "id": "21643254",
   "metadata": {},
   "outputs": [],
   "source": [
    "g2 = pd.DataFrame(police_hr.groupby(['Area_Name'])['Cases_Registered_under_Human_Rights_Violations'].sum().reset_index())\n",
    "g2.columns = ['State/UT','Cases Reported']\n",
    "\n",
    "g2.replace(to_replace='Arunachal Pradesh',value='Arunanchal Pradesh',inplace=True)\n",
    "\n",
    "shp_gdf = gpd.read_file('../input/india-gis-data/India States/Indian_states.shp')\n",
    "merged = shp_gdf.set_index('st_nm').join(g2.set_index('State/UT'))\n",
    "\n",
    "fig, ax = plt.subplots(1, figsize=(10, 10))\n",
    "ax.axis('off')\n",
    "ax.set_title('State-wise Cases Registered under Human Rights Violations',\n",
    "             fontdict={'fontsize': '15', 'fontweight' : '3'})\n",
    "fig = merged.plot(column='Cases Reported', cmap='Oranges', linewidth=0.5, ax=ax, edgecolor='0.2',legend=True)"
   ]
  },
  {
   "cell_type": "markdown",
   "id": "48f18242",
   "metadata": {},
   "source": [
    "Top 3 states with highest number of cases against police Chhatisgrah, Assam, Gujarat\n",
    "Top 3 states with lowest number of cases against police Manipur, Uttarakhand, Goa"
   ]
  },
  {
   "cell_type": "markdown",
   "id": "248df3a7",
   "metadata": {},
   "source": [
    "# Cases registered against Police under Human Rights violations from 2001 to 2010"
   ]
  },
  {
   "cell_type": "code",
   "execution_count": null,
   "id": "7ce9b328",
   "metadata": {},
   "outputs": [],
   "source": [
    "g3 = pd.DataFrame(police_hr.groupby(['Year'])['Cases_Registered_under_Human_Rights_Violations'].sum().reset_index())\n",
    "g3.columns = ['Year','Cases Registered']\n",
    "\n",
    "fig = px.bar(g3,x='Year',y='Cases Registered',color_discrete_sequence=['green'])\n",
    "fig.show()"
   ]
  },
  {
   "cell_type": "markdown",
   "id": "898e10db",
   "metadata": {},
   "source": [
    "In 2008, highest number of cases were recorded - 506\n",
    "The year 2006 recorded least number of cases i.e 58"
   ]
  },
  {
   "cell_type": "code",
   "execution_count": null,
   "id": "f3b45bd5",
   "metadata": {},
   "outputs": [],
   "source": [
    "police_hr.Group_Name.value_counts()"
   ]
  },
  {
   "cell_type": "markdown",
   "id": "92a5f71b",
   "metadata": {},
   "source": [
    "# Cases have been registered under the following heads:"
   ]
  },
  {
   "cell_type": "markdown",
   "id": "dc63f125",
   "metadata": {},
   "source": [
    "1) Torture"
   ]
  },
  {
   "cell_type": "markdown",
   "id": "19705448",
   "metadata": {},
   "source": [
    "2) Extortion"
   ]
  },
  {
   "cell_type": "markdown",
   "id": "9f7c7685",
   "metadata": {},
   "source": [
    "3) Disappearance of Persons"
   ]
  },
  {
   "cell_type": "markdown",
   "id": "1917ea02",
   "metadata": {},
   "source": [
    "4) Atrocities on SC/ST"
   ]
  },
  {
   "cell_type": "markdown",
   "id": "42a4eb96",
   "metadata": {},
   "source": [
    "5) Illegal detention/arrests"
   ]
  },
  {
   "cell_type": "markdown",
   "id": "e2c85ab8",
   "metadata": {},
   "source": [
    "6) Indignity to Women"
   ]
  },
  {
   "cell_type": "markdown",
   "id": "47aa0ae3",
   "metadata": {},
   "source": [
    "7) Fake encounter killings"
   ]
  },
  {
   "cell_type": "markdown",
   "id": "93594c3d",
   "metadata": {},
   "source": [
    "8) False implication"
   ]
  },
  {
   "cell_type": "markdown",
   "id": "2fe0170b",
   "metadata": {},
   "source": [
    "9) Violation against terrorists/extremists"
   ]
  },
  {
   "cell_type": "markdown",
   "id": "06de9f39",
   "metadata": {},
   "source": [
    "10) Failure in taking action"
   ]
  },
  {
   "cell_type": "markdown",
   "id": "1c059c6c",
   "metadata": {},
   "source": [
    "11) Other violations"
   ]
  },
  {
   "cell_type": "code",
   "execution_count": null,
   "id": "28b01a4f",
   "metadata": {},
   "outputs": [],
   "source": [
    "fake_enc_df = police_hr[police_hr['Group_Name']=='HR_Fake encounter killings'] \n",
    "fake_enc_df.Cases_Registered_under_Human_Rights_Violations.sum()"
   ]
  },
  {
   "cell_type": "markdown",
   "id": "2af116a5",
   "metadata": {},
   "source": [
    "# Cases Registed under Human Rights Violation - False implication "
   ]
  },
  {
   "cell_type": "code",
   "execution_count": null,
   "id": "d62d7d80",
   "metadata": {},
   "outputs": [],
   "source": [
    "false_imp_df = police_hr[police_hr['Group_Name']=='HR_False implication'] \n",
    "false_imp_df.Cases_Registered_under_Human_Rights_Violations.sum()"
   ]
  },
  {
   "cell_type": "markdown",
   "id": "38185436",
   "metadata": {},
   "source": [
    "# Policemen Chargesheeted vs Policemen Convicted"
   ]
  },
  {
   "cell_type": "code",
   "execution_count": null,
   "id": "5347cb52",
   "metadata": {},
   "outputs": [],
   "source": [
    "g4 = pd.DataFrame(police_hr.groupby(['Year'])['Policemen_Chargesheeted','Policemen_Convicted'].sum().reset_index())\n",
    "\n",
    "year=['2001','2002','2003','2004','2005','2006','2007','2008','2009','2010']\n",
    "\n",
    "fig = go.Figure(data=[\n",
    "    go.Bar(name='Policemen Chargesheeted', x=year, y=g4['Policemen_Chargesheeted'],\n",
    "           marker_color='purple'),\n",
    "    go.Bar(name='Policemen Convicted', x=year, y=g4['Policemen_Convicted'],\n",
    "          marker_color='red')\n",
    "])\n",
    "\n",
    "fig.update_layout(barmode='group',xaxis_title='Year',yaxis_title='Number of policemen')\n",
    "fig.show()"
   ]
  },
  {
   "cell_type": "markdown",
   "id": "ce1473a7",
   "metadata": {},
   "source": [
    "In 2009, 69.87% of policemen have been convicted - highest of the decade.\n",
    "For about three consecutive years, 2005, 2006, 2007 there has been no conviction of policemen."
   ]
  },
  {
   "cell_type": "markdown",
   "id": "2d4618ac",
   "metadata": {},
   "source": [
    "# Auto Theft cases "
   ]
  },
  {
   "cell_type": "markdown",
   "id": "b67a3f67",
   "metadata": {},
   "source": [
    "# State/UT wise number of vehicles stolen from 2001 to 2010 "
   ]
  },
  {
   "cell_type": "code",
   "execution_count": null,
   "id": "0f14e96d",
   "metadata": {},
   "outputs": [],
   "source": [
    "g5 = pd.DataFrame(auto_theft.groupby(['Area_Name'])['Auto_Theft_Stolen'].sum().reset_index())\n",
    "g5.columns = ['State/UT','Vehicle_Stolen']\n",
    "g5.replace(to_replace='Arunachal Pradesh',value='Arunanchal Pradesh',inplace=True)\n",
    "​\n",
    "shp_gdf = gpd.read_file('../input/india-gis-data/India States/Indian_states.shp')\n",
    "merged = shp_gdf.set_index('st_nm').join(g5.set_index('State/UT'))\n",
    "​\n",
    "fig, ax = plt.subplots(1, figsize=(10, 10))\n",
    "ax.axis('off')\n",
    "ax.set_title('State-wise Auto Theft Cases Reported(2001-2010)',\n",
    "             fontdict={'fontsize': '15', 'fontweight' : '3'})\n",
    "fig = merged.plot(column='Vehicle_Stolen', cmap='Wistia', linewidth=0.5, ax=ax, edgecolor='0.2',legend=True)\n",
    "​"
   ]
  },
  {
   "cell_type": "markdown",
   "id": "f7496b4e",
   "metadata": {},
   "source": [
    "# Proportion of vehicles stolen, traced and recovered "
   ]
  },
  {
   "cell_type": "code",
   "execution_count": null,
   "id": "de4d4a91",
   "metadata": {},
   "outputs": [],
   "source": [
    "auto_theft_traced = auto_theft['Auto_Theft_Coordinated/Traced'].sum()\n",
    "auto_theft_recovered = auto_theft['Auto_Theft_Recovered'].sum()\n",
    "auto_theft_stolen = auto_theft['Auto_Theft_Stolen'].sum()\n",
    "​\n",
    "vehicle_group = ['Vehicles Stolen','Vehicles Traced','Vehicles Recovered']\n",
    "vehicle_vals = [auto_theft_stolen,auto_theft_traced,auto_theft_recovered]\n",
    "​\n",
    "colors = ['crimson','gold','green']\n",
    "​\n",
    "fig = go.Figure(data=[go.Pie(labels=vehicle_group, values=vehicle_vals,sort=False,\n",
    "                            marker=dict(colors=colors),textfont_size=12)])\n",
    "​\n",
    "fig.show()"
   ]
  },
  {
   "cell_type": "markdown",
   "id": "61a71b9b",
   "metadata": {},
   "source": [
    "Out of 2,467,182 vehicles stolen, 21.2% have been recovered."
   ]
  },
  {
   "cell_type": "markdown",
   "id": "6823a35a",
   "metadata": {},
   "source": [
    "# Year wise vehicles stolen "
   ]
  },
  {
   "cell_type": "code",
   "execution_count": null,
   "id": "a509af0b",
   "metadata": {},
   "outputs": [],
   "source": [
    "g5 = pd.DataFrame(auto_theft.groupby(['Year'])['Auto_Theft_Stolen'].sum().reset_index())\n",
    "​\n",
    "g5.columns = ['Year','Vehicles Stolen']\n",
    "​\n",
    "fig = px.bar(g5,x='Year',y='Vehicles Stolen',color_discrete_sequence=['#17becf'])\n",
    "fig.show()"
   ]
  },
  {
   "cell_type": "markdown",
   "id": "cb8d2f25",
   "metadata": {},
   "source": [
    "There seems to be linear growth of vehicles stolen.\n",
    "At this rate by the end of 2020, there will be approxiately 460k vehicles stolen."
   ]
  },
  {
   "cell_type": "markdown",
   "id": "3ac11787",
   "metadata": {},
   "source": [
    "# Types of vehicles stolen "
   ]
  },
  {
   "cell_type": "code",
   "execution_count": null,
   "id": "f9664bdf",
   "metadata": {},
   "outputs": [],
   "source": [
    "vehicle_list = ['Motor Cycles/ Scooters','Motor Car/Taxi/Jeep','Buses',\n",
    "               'Goods carrying vehicles (Trucks/Tempo etc)','Other Motor vehicles']\n",
    "\n",
    "sr_no = [1,2,3,4,5]\n",
    "\n",
    "fig = go.Figure(data=[go.Table(header=dict(values=['Sr No','Vehicle type'],\n",
    "                                          fill_color='turquoise',\n",
    "                                           height=30),\n",
    "                 cells=dict(values=[sr_no,vehicle_list],\n",
    "                            height=30))\n",
    "                     ])\n",
    "fig.show()"
   ]
  },
  {
   "cell_type": "markdown",
   "id": "5d13a8a6",
   "metadata": {},
   "source": [
    "Top 10 States/UT with highest number of motor cycles stolen"
   ]
  },
  {
   "cell_type": "code",
   "execution_count": null,
   "id": "59adacaf",
   "metadata": {},
   "outputs": [],
   "source": [
    "motor_c = auto_theft[auto_theft['Sub_Group_Name']=='1. Motor Cycles/ Scooters']\n",
    "​\n",
    "g8 = pd.DataFrame(motor_c.groupby(['Area_Name'])['Auto_Theft_Stolen'].sum().reset_index())\n",
    "g8_sorted = g8.sort_values(['Auto_Theft_Stolen'],ascending=True)\n",
    "fig = px.bar(g8_sorted.iloc[-10:,:], y='Area_Name', x='Auto_Theft_Stolen',\n",
    "             orientation='h',color_discrete_sequence=['#008080'])\n",
    "fig.show()"
   ]
  },
  {
   "cell_type": "markdown",
   "id": "7ea77111",
   "metadata": {},
   "source": [
    "Maharashtra has the most cases of vehicles stolen - over 103k"
   ]
  },
  {
   "cell_type": "markdown",
   "id": "8155225a",
   "metadata": {},
   "source": [
    "# Property theft cases "
   ]
  },
  {
   "cell_type": "markdown",
   "id": "86a95f2f",
   "metadata": {},
   "source": [
    "State/UT wise number of property stolen cases from 2001 to 2010"
   ]
  },
  {
   "cell_type": "code",
   "execution_count": null,
   "id": "aa3b4ccc",
   "metadata": {},
   "outputs": [],
   "source": [
    "g7 = pd.DataFrame(prop_theft.groupby(['Area_Name'])['Cases_Property_Stolen'].sum().reset_index())\n",
    "g7.columns = ['State/UT','Cases Reported']\n",
    "g7.replace(to_replace='Arunachal Pradesh',value='Arunanchal Pradesh',inplace=True)\n",
    "\n",
    "shp_gdf = gpd.read_file('../input/india-gis-data/India States/Indian_states.shp')\n",
    "merged = shp_gdf.set_index('st_nm').join(g7.set_index('State/UT'))\n",
    "\n",
    "fig, ax = plt.subplots(1, figsize=(10, 10))\n",
    "ax.axis('off')\n",
    "ax.set_title('State-wise Property Stolen-Cases Reported',\n",
    "             fontdict={'fontsize': '15', 'fontweight' : '3'})\n",
    "fig = merged.plot(column='Cases Reported', cmap='RdPu', linewidth=0.5, ax=ax, edgecolor='0.2',legend=True)"
   ]
  },
  {
   "cell_type": "markdown",
   "id": "31554a72",
   "metadata": {},
   "source": [
    "# Types of property stolen cases"
   ]
  },
  {
   "cell_type": "markdown",
   "id": "c35b7704",
   "metadata": {},
   "source": [
    "# Cases have been registered under the following heads:"
   ]
  },
  {
   "cell_type": "markdown",
   "id": "4ddb2719",
   "metadata": {},
   "source": [
    "1) Dacoity"
   ]
  },
  {
   "cell_type": "markdown",
   "id": "bd8c3ef2",
   "metadata": {},
   "source": [
    "2) Criminal Breach of Trust"
   ]
  },
  {
   "cell_type": "markdown",
   "id": "4cd15186",
   "metadata": {},
   "source": [
    "3) Robbery"
   ]
  },
  {
   "cell_type": "markdown",
   "id": "625138f6",
   "metadata": {},
   "source": [
    "4) Burglary"
   ]
  },
  {
   "cell_type": "markdown",
   "id": "7542951f",
   "metadata": {},
   "source": [
    "5) Theft"
   ]
  },
  {
   "cell_type": "markdown",
   "id": "6b74918a",
   "metadata": {},
   "source": [
    "6) Others"
   ]
  },
  {
   "cell_type": "code",
   "execution_count": null,
   "id": "330b0828",
   "metadata": {},
   "outputs": [],
   "source": [
    "g7 = pd.DataFrame(prop_theft.groupby(['Area_Name'])['Cases_Property_Stolen'].sum().reset_index())\n",
    "g7.columns = ['State/UT','Cases Reported']\n",
    "g7.replace(to_replace='Arunachal Pradesh',value='Arunanchal Pradesh',inplace=True)\n",
    "\n",
    "shp_gdf = gpd.read_file('../input/india-gis-data/India States/Indian_states.shp')\n",
    "merged = shp_gdf.set_index('st_nm').join(g7.set_index('State/UT'))\n",
    "\n",
    "fig, ax = plt.subplots(1, figsize=(10, 10))\n",
    "ax.axis('off')\n",
    "ax.set_title('State-wise Property Stolen-Cases Reported',\n",
    "             fontdict={'fontsize': '15', 'fontweight' : '3'})\n",
    "fig = merged.plot(column='Cases Reported', cmap='RdPu', linewidth=0.5, ax=ax, edgecolor='0.2',legend=True)"
   ]
  },
  {
   "cell_type": "markdown",
   "id": "676a96c4",
   "metadata": {},
   "source": [
    "# Types of property stolen cases"
   ]
  },
  {
   "cell_type": "markdown",
   "id": "d8c7cc03",
   "metadata": {},
   "source": [
    "Property stolen vs recovered"
   ]
  },
  {
   "cell_type": "code",
   "execution_count": null,
   "id": "c5e6c173",
   "metadata": {},
   "outputs": [],
   "source": [
    "prop_theft_recovered = prop_theft['Cases_Property_Recovered'].sum()\n",
    "prop_theft_stolen = prop_theft['Cases_Property_Stolen'].sum()\n",
    "​\n",
    "prop_group = ['Property Stolen Cases','Property Recovered Cases']\n",
    "prop_vals = [prop_theft_stolen,prop_theft_recovered]\n",
    "​\n",
    "colors = ['red','green']\n",
    "​\n",
    "fig = go.Figure(data=[go.Pie(labels=prop_group, values=prop_vals,sort=False,\n",
    "                            marker=dict(colors=colors),textfont_size=12)])\n",
    "​\n",
    "fig.show()"
   ]
  },
  {
   "cell_type": "markdown",
   "id": "3c9553e6",
   "metadata": {},
   "source": [
    "# Year-wise Value of Property Stolen and Recovered "
   ]
  },
  {
   "cell_type": "code",
   "execution_count": null,
   "id": "c84a0835",
   "metadata": {},
   "outputs": [],
   "source": [
    "g9 = pd.DataFrame(prop_theft.groupby(['Year'])['Value_of_Property_Recovered','Value_of_Property_Stolen'].sum().reset_index())\n",
    "​\n",
    "year=['2001','2002','2003','2004','2005','2006','2007','2008','2009','2010']\n",
    "​\n",
    "fig = go.Figure(data=[\n",
    "    go.Bar(name='Property Recovered', x=year, y=g9['Value_of_Property_Recovered'],\n",
    "           marker_color='gold'),\n",
    "    go.Bar(name='Property Stolen', x=year, y=g9['Value_of_Property_Stolen'],\n",
    "          marker_color='darkblue')\n",
    "])\n",
    "​\n",
    "fig.update_layout(barmode='group',xaxis_title='Year',yaxis_title='Value in Rupees',\n",
    "                 title='Year-wise Value of Property Stolen and Recovered')\n",
    "fig.show()"
   ]
  }
 ],
 "metadata": {
  "kernelspec": {
   "display_name": "Python 3 (ipykernel)",
   "language": "python",
   "name": "python3"
  },
  "language_info": {
   "codemirror_mode": {
    "name": "ipython",
    "version": 3
   },
   "file_extension": ".py",
   "mimetype": "text/x-python",
   "name": "python",
   "nbconvert_exporter": "python",
   "pygments_lexer": "ipython3",
   "version": "3.10.9"
  }
 },
 "nbformat": 4,
 "nbformat_minor": 5
}
